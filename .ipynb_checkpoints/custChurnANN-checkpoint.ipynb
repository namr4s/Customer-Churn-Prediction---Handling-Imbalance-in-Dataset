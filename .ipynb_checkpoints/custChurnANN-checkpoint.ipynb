{
 "cells": [
  {
   "cell_type": "code",
   "execution_count": 178,
   "id": "4bd8d95a",
   "metadata": {},
   "outputs": [],
   "source": [
    "import pandas as pd\n",
    "import numpy as np"
   ]
  },
  {
   "cell_type": "code",
   "execution_count": 179,
   "id": "216a61d8",
   "metadata": {},
   "outputs": [
    {
     "data": {
      "text/html": [
       "<div>\n",
       "<style scoped>\n",
       "    .dataframe tbody tr th:only-of-type {\n",
       "        vertical-align: middle;\n",
       "    }\n",
       "\n",
       "    .dataframe tbody tr th {\n",
       "        vertical-align: top;\n",
       "    }\n",
       "\n",
       "    .dataframe thead th {\n",
       "        text-align: right;\n",
       "    }\n",
       "</style>\n",
       "<table border=\"1\" class=\"dataframe\">\n",
       "  <thead>\n",
       "    <tr style=\"text-align: right;\">\n",
       "      <th></th>\n",
       "      <th>customerID</th>\n",
       "      <th>gender</th>\n",
       "      <th>SeniorCitizen</th>\n",
       "      <th>Partner</th>\n",
       "      <th>Dependents</th>\n",
       "      <th>tenure</th>\n",
       "      <th>PhoneService</th>\n",
       "      <th>MultipleLines</th>\n",
       "      <th>InternetService</th>\n",
       "      <th>OnlineSecurity</th>\n",
       "      <th>...</th>\n",
       "      <th>DeviceProtection</th>\n",
       "      <th>TechSupport</th>\n",
       "      <th>StreamingTV</th>\n",
       "      <th>StreamingMovies</th>\n",
       "      <th>Contract</th>\n",
       "      <th>PaperlessBilling</th>\n",
       "      <th>PaymentMethod</th>\n",
       "      <th>MonthlyCharges</th>\n",
       "      <th>TotalCharges</th>\n",
       "      <th>Churn</th>\n",
       "    </tr>\n",
       "  </thead>\n",
       "  <tbody>\n",
       "    <tr>\n",
       "      <th>0</th>\n",
       "      <td>7590-VHVEG</td>\n",
       "      <td>Female</td>\n",
       "      <td>0</td>\n",
       "      <td>Yes</td>\n",
       "      <td>No</td>\n",
       "      <td>1</td>\n",
       "      <td>No</td>\n",
       "      <td>No phone service</td>\n",
       "      <td>DSL</td>\n",
       "      <td>No</td>\n",
       "      <td>...</td>\n",
       "      <td>No</td>\n",
       "      <td>No</td>\n",
       "      <td>No</td>\n",
       "      <td>No</td>\n",
       "      <td>Month-to-month</td>\n",
       "      <td>Yes</td>\n",
       "      <td>Electronic check</td>\n",
       "      <td>29.85</td>\n",
       "      <td>29.85</td>\n",
       "      <td>No</td>\n",
       "    </tr>\n",
       "    <tr>\n",
       "      <th>1</th>\n",
       "      <td>5575-GNVDE</td>\n",
       "      <td>Male</td>\n",
       "      <td>0</td>\n",
       "      <td>No</td>\n",
       "      <td>No</td>\n",
       "      <td>34</td>\n",
       "      <td>Yes</td>\n",
       "      <td>No</td>\n",
       "      <td>DSL</td>\n",
       "      <td>Yes</td>\n",
       "      <td>...</td>\n",
       "      <td>Yes</td>\n",
       "      <td>No</td>\n",
       "      <td>No</td>\n",
       "      <td>No</td>\n",
       "      <td>One year</td>\n",
       "      <td>No</td>\n",
       "      <td>Mailed check</td>\n",
       "      <td>56.95</td>\n",
       "      <td>1889.5</td>\n",
       "      <td>No</td>\n",
       "    </tr>\n",
       "    <tr>\n",
       "      <th>2</th>\n",
       "      <td>3668-QPYBK</td>\n",
       "      <td>Male</td>\n",
       "      <td>0</td>\n",
       "      <td>No</td>\n",
       "      <td>No</td>\n",
       "      <td>2</td>\n",
       "      <td>Yes</td>\n",
       "      <td>No</td>\n",
       "      <td>DSL</td>\n",
       "      <td>Yes</td>\n",
       "      <td>...</td>\n",
       "      <td>No</td>\n",
       "      <td>No</td>\n",
       "      <td>No</td>\n",
       "      <td>No</td>\n",
       "      <td>Month-to-month</td>\n",
       "      <td>Yes</td>\n",
       "      <td>Mailed check</td>\n",
       "      <td>53.85</td>\n",
       "      <td>108.15</td>\n",
       "      <td>Yes</td>\n",
       "    </tr>\n",
       "    <tr>\n",
       "      <th>3</th>\n",
       "      <td>7795-CFOCW</td>\n",
       "      <td>Male</td>\n",
       "      <td>0</td>\n",
       "      <td>No</td>\n",
       "      <td>No</td>\n",
       "      <td>45</td>\n",
       "      <td>No</td>\n",
       "      <td>No phone service</td>\n",
       "      <td>DSL</td>\n",
       "      <td>Yes</td>\n",
       "      <td>...</td>\n",
       "      <td>Yes</td>\n",
       "      <td>Yes</td>\n",
       "      <td>No</td>\n",
       "      <td>No</td>\n",
       "      <td>One year</td>\n",
       "      <td>No</td>\n",
       "      <td>Bank transfer (automatic)</td>\n",
       "      <td>42.30</td>\n",
       "      <td>1840.75</td>\n",
       "      <td>No</td>\n",
       "    </tr>\n",
       "    <tr>\n",
       "      <th>4</th>\n",
       "      <td>9237-HQITU</td>\n",
       "      <td>Female</td>\n",
       "      <td>0</td>\n",
       "      <td>No</td>\n",
       "      <td>No</td>\n",
       "      <td>2</td>\n",
       "      <td>Yes</td>\n",
       "      <td>No</td>\n",
       "      <td>Fiber optic</td>\n",
       "      <td>No</td>\n",
       "      <td>...</td>\n",
       "      <td>No</td>\n",
       "      <td>No</td>\n",
       "      <td>No</td>\n",
       "      <td>No</td>\n",
       "      <td>Month-to-month</td>\n",
       "      <td>Yes</td>\n",
       "      <td>Electronic check</td>\n",
       "      <td>70.70</td>\n",
       "      <td>151.65</td>\n",
       "      <td>Yes</td>\n",
       "    </tr>\n",
       "  </tbody>\n",
       "</table>\n",
       "<p>5 rows × 21 columns</p>\n",
       "</div>"
      ],
      "text/plain": [
       "   customerID  gender  SeniorCitizen Partner Dependents  tenure PhoneService  \\\n",
       "0  7590-VHVEG  Female              0     Yes         No       1           No   \n",
       "1  5575-GNVDE    Male              0      No         No      34          Yes   \n",
       "2  3668-QPYBK    Male              0      No         No       2          Yes   \n",
       "3  7795-CFOCW    Male              0      No         No      45           No   \n",
       "4  9237-HQITU  Female              0      No         No       2          Yes   \n",
       "\n",
       "      MultipleLines InternetService OnlineSecurity  ... DeviceProtection  \\\n",
       "0  No phone service             DSL             No  ...               No   \n",
       "1                No             DSL            Yes  ...              Yes   \n",
       "2                No             DSL            Yes  ...               No   \n",
       "3  No phone service             DSL            Yes  ...              Yes   \n",
       "4                No     Fiber optic             No  ...               No   \n",
       "\n",
       "  TechSupport StreamingTV StreamingMovies        Contract PaperlessBilling  \\\n",
       "0          No          No              No  Month-to-month              Yes   \n",
       "1          No          No              No        One year               No   \n",
       "2          No          No              No  Month-to-month              Yes   \n",
       "3         Yes          No              No        One year               No   \n",
       "4          No          No              No  Month-to-month              Yes   \n",
       "\n",
       "               PaymentMethod MonthlyCharges  TotalCharges Churn  \n",
       "0           Electronic check          29.85         29.85    No  \n",
       "1               Mailed check          56.95        1889.5    No  \n",
       "2               Mailed check          53.85        108.15   Yes  \n",
       "3  Bank transfer (automatic)          42.30       1840.75    No  \n",
       "4           Electronic check          70.70        151.65   Yes  \n",
       "\n",
       "[5 rows x 21 columns]"
      ]
     },
     "execution_count": 179,
     "metadata": {},
     "output_type": "execute_result"
    }
   ],
   "source": [
    "df = pd.read_csv('churnData.csv')\n",
    "df.head()"
   ]
  },
  {
   "cell_type": "code",
   "execution_count": 180,
   "id": "b1e296e0",
   "metadata": {},
   "outputs": [],
   "source": [
    "df.drop(columns=['customerID'], inplace= True)"
   ]
  },
  {
   "cell_type": "code",
   "execution_count": 181,
   "id": "3eeb4131",
   "metadata": {},
   "outputs": [
    {
     "data": {
      "text/plain": [
       "gender               object\n",
       "SeniorCitizen         int64\n",
       "Partner              object\n",
       "Dependents           object\n",
       "tenure                int64\n",
       "PhoneService         object\n",
       "MultipleLines        object\n",
       "InternetService      object\n",
       "OnlineSecurity       object\n",
       "OnlineBackup         object\n",
       "DeviceProtection     object\n",
       "TechSupport          object\n",
       "StreamingTV          object\n",
       "StreamingMovies      object\n",
       "Contract             object\n",
       "PaperlessBilling     object\n",
       "PaymentMethod        object\n",
       "MonthlyCharges      float64\n",
       "TotalCharges         object\n",
       "Churn                object\n",
       "dtype: object"
      ]
     },
     "execution_count": 181,
     "metadata": {},
     "output_type": "execute_result"
    }
   ],
   "source": [
    "df.dtypes"
   ]
  },
  {
   "cell_type": "code",
   "execution_count": 182,
   "id": "9f41fbc4",
   "metadata": {},
   "outputs": [],
   "source": [
    "df['TotalCharges'] = pd.to_numeric(df['TotalCharges'],errors='coerce')"
   ]
  },
  {
   "cell_type": "code",
   "execution_count": 183,
   "id": "aaebe9ec",
   "metadata": {},
   "outputs": [
    {
     "data": {
      "text/plain": [
       "(11, 20)"
      ]
     },
     "execution_count": 183,
     "metadata": {},
     "output_type": "execute_result"
    }
   ],
   "source": [
    "df1 = df[df.isna().any(axis=1)]\n",
    "df1.shape"
   ]
  },
  {
   "cell_type": "code",
   "execution_count": 184,
   "id": "7c84716b",
   "metadata": {},
   "outputs": [
    {
     "data": {
      "text/plain": [
       "(7043, 20)"
      ]
     },
     "execution_count": 184,
     "metadata": {},
     "output_type": "execute_result"
    }
   ],
   "source": [
    "df.shape"
   ]
  },
  {
   "cell_type": "code",
   "execution_count": 185,
   "id": "0019a0ed",
   "metadata": {},
   "outputs": [
    {
     "data": {
      "text/plain": [
       "(7032, 20)"
      ]
     },
     "execution_count": 185,
     "metadata": {},
     "output_type": "execute_result"
    }
   ],
   "source": [
    "df.dropna(axis=0,inplace= True)\n",
    "df.shape"
   ]
  },
  {
   "cell_type": "code",
   "execution_count": 186,
   "id": "7dce901e",
   "metadata": {},
   "outputs": [
    {
     "data": {
      "text/plain": [
       "gender               object\n",
       "SeniorCitizen         int64\n",
       "Partner              object\n",
       "Dependents           object\n",
       "tenure                int64\n",
       "PhoneService         object\n",
       "MultipleLines        object\n",
       "InternetService      object\n",
       "OnlineSecurity       object\n",
       "OnlineBackup         object\n",
       "DeviceProtection     object\n",
       "TechSupport          object\n",
       "StreamingTV          object\n",
       "StreamingMovies      object\n",
       "Contract             object\n",
       "PaperlessBilling     object\n",
       "PaymentMethod        object\n",
       "MonthlyCharges      float64\n",
       "TotalCharges        float64\n",
       "Churn                object\n",
       "dtype: object"
      ]
     },
     "execution_count": 186,
     "metadata": {},
     "output_type": "execute_result"
    }
   ],
   "source": [
    "df.dtypes"
   ]
  },
  {
   "cell_type": "code",
   "execution_count": 187,
   "id": "5a9b50c5",
   "metadata": {},
   "outputs": [
    {
     "name": "stdout",
     "output_type": "stream",
     "text": [
      "gender: ['Female' 'Male']\n",
      "Partner: ['Yes' 'No']\n",
      "Dependents: ['No' 'Yes']\n",
      "PhoneService: ['No' 'Yes']\n",
      "MultipleLines: ['No phone service' 'No' 'Yes']\n",
      "InternetService: ['DSL' 'Fiber optic' 'No']\n",
      "OnlineSecurity: ['No' 'Yes' 'No internet service']\n",
      "OnlineBackup: ['Yes' 'No' 'No internet service']\n",
      "DeviceProtection: ['No' 'Yes' 'No internet service']\n",
      "TechSupport: ['No' 'Yes' 'No internet service']\n",
      "StreamingTV: ['No' 'Yes' 'No internet service']\n",
      "StreamingMovies: ['No' 'Yes' 'No internet service']\n",
      "Contract: ['Month-to-month' 'One year' 'Two year']\n",
      "PaperlessBilling: ['Yes' 'No']\n",
      "PaymentMethod: ['Electronic check' 'Mailed check' 'Bank transfer (automatic)'\n",
      " 'Credit card (automatic)']\n",
      "Churn: ['No' 'Yes']\n"
     ]
    }
   ],
   "source": [
    "for i in df.columns:\n",
    "    if df[i].dtypes == 'object':\n",
    "        print(f'{i}: {df[i].unique()}')"
   ]
  },
  {
   "cell_type": "code",
   "execution_count": 188,
   "id": "59a0ce0c",
   "metadata": {},
   "outputs": [],
   "source": [
    "df[\"MultipleLines\"].replace('No phone service','No', inplace= True)\n",
    "df[\"OnlineSecurity\"].replace('No internet service','No', inplace= True)\n",
    "df[\"OnlineBackup\"].replace('No internet service','No', inplace= True)\n",
    "df[\"DeviceProtection\"].replace('No internet service','No', inplace= True)\n",
    "df[\"TechSupport\"].replace('No internet service','No', inplace= True)\n",
    "df[\"StreamingTV\"].replace('No internet service','No', inplace= True)\n",
    "df[\"StreamingMovies\"].replace('No internet service','No', inplace= True)"
   ]
  },
  {
   "cell_type": "code",
   "execution_count": 189,
   "id": "0028eb8b",
   "metadata": {},
   "outputs": [
    {
     "name": "stdout",
     "output_type": "stream",
     "text": [
      "gender: ['Female' 'Male']\n",
      "Partner: ['Yes' 'No']\n",
      "Dependents: ['No' 'Yes']\n",
      "PhoneService: ['No' 'Yes']\n",
      "MultipleLines: ['No' 'Yes']\n",
      "InternetService: ['DSL' 'Fiber optic' 'No']\n",
      "OnlineSecurity: ['No' 'Yes']\n",
      "OnlineBackup: ['Yes' 'No']\n",
      "DeviceProtection: ['No' 'Yes']\n",
      "TechSupport: ['No' 'Yes']\n",
      "StreamingTV: ['No' 'Yes']\n",
      "StreamingMovies: ['No' 'Yes']\n",
      "Contract: ['Month-to-month' 'One year' 'Two year']\n",
      "PaperlessBilling: ['Yes' 'No']\n",
      "PaymentMethod: ['Electronic check' 'Mailed check' 'Bank transfer (automatic)'\n",
      " 'Credit card (automatic)']\n",
      "Churn: ['No' 'Yes']\n"
     ]
    }
   ],
   "source": [
    "for i in df.columns:\n",
    "    if df[i].dtypes == 'object':\n",
    "        print(f'{i}: {df[i].unique()}')"
   ]
  },
  {
   "cell_type": "code",
   "execution_count": 190,
   "id": "1e387d94",
   "metadata": {},
   "outputs": [],
   "source": [
    "yes_no_Columns = ['Partner','Dependents','PhoneService','MultipleLines','OnlineSecurity','OnlineBackup','DeviceProtection',\n",
    "                  'TechSupport','StreamingTV','StreamingMovies','PaperlessBilling','Churn']"
   ]
  },
  {
   "cell_type": "code",
   "execution_count": 191,
   "id": "7535a704",
   "metadata": {},
   "outputs": [],
   "source": [
    "for col in yes_no_Columns:\n",
    "    df[col].replace({'Yes': 1,'No': 0},inplace=True)\n",
    "df['gender'].replace({'Male': 1,'Female': 0},inplace=True)"
   ]
  },
  {
   "cell_type": "code",
   "execution_count": 192,
   "id": "46b2b1fe",
   "metadata": {},
   "outputs": [
    {
     "name": "stdout",
     "output_type": "stream",
     "text": [
      "InternetService: ['DSL' 'Fiber optic' 'No']\n",
      "Contract: ['Month-to-month' 'One year' 'Two year']\n",
      "PaymentMethod: ['Electronic check' 'Mailed check' 'Bank transfer (automatic)'\n",
      " 'Credit card (automatic)']\n"
     ]
    }
   ],
   "source": [
    "for i in df.columns:\n",
    "    if df[i].dtypes == 'object':\n",
    "        print(f'{i}: {df[i].unique()}')"
   ]
  },
  {
   "cell_type": "code",
   "execution_count": 193,
   "id": "7b416bed",
   "metadata": {},
   "outputs": [
    {
     "data": {
      "text/plain": [
       "Index(['gender', 'SeniorCitizen', 'Partner', 'Dependents', 'tenure',\n",
       "       'PhoneService', 'MultipleLines', 'OnlineSecurity', 'OnlineBackup',\n",
       "       'DeviceProtection', 'TechSupport', 'StreamingTV', 'StreamingMovies',\n",
       "       'PaperlessBilling', 'MonthlyCharges', 'TotalCharges', 'Churn',\n",
       "       'InternetService_DSL', 'InternetService_Fiber optic',\n",
       "       'InternetService_No', 'Contract_Month-to-month', 'Contract_One year',\n",
       "       'Contract_Two year', 'PaymentMethod_Bank transfer (automatic)',\n",
       "       'PaymentMethod_Credit card (automatic)',\n",
       "       'PaymentMethod_Electronic check', 'PaymentMethod_Mailed check'],\n",
       "      dtype='object')"
      ]
     },
     "execution_count": 193,
     "metadata": {},
     "output_type": "execute_result"
    }
   ],
   "source": [
    "df = pd.get_dummies(data=df, columns=['InternetService','Contract','PaymentMethod'])\n",
    "df.columns"
   ]
  },
  {
   "cell_type": "code",
   "execution_count": 194,
   "id": "28b99d97",
   "metadata": {},
   "outputs": [
    {
     "data": {
      "text/plain": [
       "gender                                       int64\n",
       "SeniorCitizen                                int64\n",
       "Partner                                      int64\n",
       "Dependents                                   int64\n",
       "tenure                                       int64\n",
       "PhoneService                                 int64\n",
       "MultipleLines                                int64\n",
       "OnlineSecurity                               int64\n",
       "OnlineBackup                                 int64\n",
       "DeviceProtection                             int64\n",
       "TechSupport                                  int64\n",
       "StreamingTV                                  int64\n",
       "StreamingMovies                              int64\n",
       "PaperlessBilling                             int64\n",
       "MonthlyCharges                             float64\n",
       "TotalCharges                               float64\n",
       "Churn                                        int64\n",
       "InternetService_DSL                          uint8\n",
       "InternetService_Fiber optic                  uint8\n",
       "InternetService_No                           uint8\n",
       "Contract_Month-to-month                      uint8\n",
       "Contract_One year                            uint8\n",
       "Contract_Two year                            uint8\n",
       "PaymentMethod_Bank transfer (automatic)      uint8\n",
       "PaymentMethod_Credit card (automatic)        uint8\n",
       "PaymentMethod_Electronic check               uint8\n",
       "PaymentMethod_Mailed check                   uint8\n",
       "dtype: object"
      ]
     },
     "execution_count": 194,
     "metadata": {},
     "output_type": "execute_result"
    }
   ],
   "source": [
    "df.dtypes"
   ]
  },
  {
   "cell_type": "markdown",
   "id": "eb4cb316",
   "metadata": {},
   "source": [
    "# Handling imbalance in dataset (using SMOTE)"
   ]
  },
  {
   "cell_type": "code",
   "execution_count": 195,
   "id": "64fb2d26",
   "metadata": {},
   "outputs": [
    {
     "data": {
      "text/plain": [
       "0    5163\n",
       "1    1869\n",
       "Name: Churn, dtype: int64"
      ]
     },
     "execution_count": 195,
     "metadata": {},
     "output_type": "execute_result"
    }
   ],
   "source": [
    "y = df[\"Churn\"]\n",
    "X = df.drop(columns=['Churn'])\n",
    "y.value_counts()"
   ]
  },
  {
   "cell_type": "code",
   "execution_count": 196,
   "id": "bed3c27c",
   "metadata": {},
   "outputs": [
    {
     "data": {
      "text/plain": [
       "0    5163\n",
       "1    5163\n",
       "Name: Churn, dtype: int64"
      ]
     },
     "execution_count": 196,
     "metadata": {},
     "output_type": "execute_result"
    }
   ],
   "source": [
    "from imblearn.over_sampling import SMOTE \n",
    "\n",
    "sm = SMOTE(sampling_strategy='minority', random_state=42)\n",
    "X_sm, y_sm = sm.fit_resample(X, y)\n",
    "y_sm.value_counts()"
   ]
  },
  {
   "cell_type": "code",
   "execution_count": 197,
   "id": "77ebf6c9",
   "metadata": {},
   "outputs": [],
   "source": [
    "from sklearn.model_selection import train_test_split\n",
    "\n",
    "xtrain, xtest, ytrain, ytest = train_test_split(X_sm, y_sm, test_size=0.2, random_state=42, stratify=y_sm)"
   ]
  },
  {
   "cell_type": "markdown",
   "id": "c5f1c466",
   "metadata": {},
   "source": [
    "# Neural Network"
   ]
  },
  {
   "cell_type": "code",
   "execution_count": 198,
   "id": "f407e08f",
   "metadata": {},
   "outputs": [],
   "source": [
    "from sklearn.preprocessing import MinMaxScaler\n",
    "\n",
    "cols_to_scale = ['tenure','MonthlyCharges','TotalCharges']\n",
    "scaler = MinMaxScaler()\n",
    "xtrain[cols_to_scale] = scaler.fit_transform(xtrain[cols_to_scale])\n",
    "xtest[cols_to_scale] = scaler.transform(xtest[cols_to_scale])"
   ]
  },
  {
   "cell_type": "code",
   "execution_count": 199,
   "id": "f72d3a24",
   "metadata": {},
   "outputs": [
    {
     "name": "stdout",
     "output_type": "stream",
     "text": [
      "Epoch 1/100\n",
      "259/259 [==============================] - 1s 2ms/step - loss: 0.4934 - accuracy: 0.7736\n",
      "Epoch 2/100\n",
      "259/259 [==============================] - 1s 3ms/step - loss: 0.4111 - accuracy: 0.8160\n",
      "Epoch 3/100\n",
      "259/259 [==============================] - 1s 3ms/step - loss: 0.3850 - accuracy: 0.8277\n",
      "Epoch 4/100\n",
      "259/259 [==============================] - 1s 3ms/step - loss: 0.3685 - accuracy: 0.8349\n",
      "Epoch 5/100\n",
      "259/259 [==============================] - 1s 3ms/step - loss: 0.3560 - accuracy: 0.8367\n",
      "Epoch 6/100\n",
      "259/259 [==============================] - 1s 3ms/step - loss: 0.3487 - accuracy: 0.8437\n",
      "Epoch 7/100\n",
      "259/259 [==============================] - 1s 3ms/step - loss: 0.3420 - accuracy: 0.8456\n",
      "Epoch 8/100\n",
      "259/259 [==============================] - 1s 3ms/step - loss: 0.3364 - accuracy: 0.8444\n",
      "Epoch 9/100\n",
      "259/259 [==============================] - 1s 3ms/step - loss: 0.3329 - accuracy: 0.8475\n",
      "Epoch 10/100\n",
      "259/259 [==============================] - 1s 3ms/step - loss: 0.3306 - accuracy: 0.8441\n",
      "Epoch 11/100\n",
      "259/259 [==============================] - 1s 4ms/step - loss: 0.3268 - accuracy: 0.8494\n",
      "Epoch 12/100\n",
      "259/259 [==============================] - 1s 3ms/step - loss: 0.3263 - accuracy: 0.8495\n",
      "Epoch 13/100\n",
      "259/259 [==============================] - 1s 4ms/step - loss: 0.3240 - accuracy: 0.8538\n",
      "Epoch 14/100\n",
      "259/259 [==============================] - 1s 3ms/step - loss: 0.3205 - accuracy: 0.8516\n",
      "Epoch 15/100\n",
      "259/259 [==============================] - 1s 3ms/step - loss: 0.3196 - accuracy: 0.8511\n",
      "Epoch 16/100\n",
      "259/259 [==============================] - 1s 4ms/step - loss: 0.3177 - accuracy: 0.8513\n",
      "Epoch 17/100\n",
      "259/259 [==============================] - 1s 3ms/step - loss: 0.3159 - accuracy: 0.8542\n",
      "Epoch 18/100\n",
      "259/259 [==============================] - 1s 3ms/step - loss: 0.3168 - accuracy: 0.8528\n",
      "Epoch 19/100\n",
      "259/259 [==============================] - 1s 3ms/step - loss: 0.3146 - accuracy: 0.8521\n",
      "Epoch 20/100\n",
      "259/259 [==============================] - 1s 4ms/step - loss: 0.3146 - accuracy: 0.8530\n",
      "Epoch 21/100\n",
      "259/259 [==============================] - 1s 5ms/step - loss: 0.3136 - accuracy: 0.8563\n",
      "Epoch 22/100\n",
      "259/259 [==============================] - 1s 2ms/step - loss: 0.3131 - accuracy: 0.8554\n",
      "Epoch 23/100\n",
      "259/259 [==============================] - 1s 2ms/step - loss: 0.3103 - accuracy: 0.8565\n",
      "Epoch 24/100\n",
      "259/259 [==============================] - 1s 3ms/step - loss: 0.3101 - accuracy: 0.8559\n",
      "Epoch 25/100\n",
      "259/259 [==============================] - 1s 3ms/step - loss: 0.3119 - accuracy: 0.8542\n",
      "Epoch 26/100\n",
      "259/259 [==============================] - 1s 4ms/step - loss: 0.3090 - accuracy: 0.8567\n",
      "Epoch 27/100\n",
      "259/259 [==============================] - 1s 3ms/step - loss: 0.3077 - accuracy: 0.8546\n",
      "Epoch 28/100\n",
      "259/259 [==============================] - 1s 3ms/step - loss: 0.3088 - accuracy: 0.8568\n",
      "Epoch 29/100\n",
      "259/259 [==============================] - 1s 3ms/step - loss: 0.3071 - accuracy: 0.8577\n",
      "Epoch 30/100\n",
      "259/259 [==============================] - 1s 3ms/step - loss: 0.3082 - accuracy: 0.8565\n",
      "Epoch 31/100\n",
      "259/259 [==============================] - 1s 2ms/step - loss: 0.3072 - accuracy: 0.8556\n",
      "Epoch 32/100\n",
      "259/259 [==============================] - 1s 4ms/step - loss: 0.3049 - accuracy: 0.8580\n",
      "Epoch 33/100\n",
      "259/259 [==============================] - 1s 3ms/step - loss: 0.3040 - accuracy: 0.8582\n",
      "Epoch 34/100\n",
      "259/259 [==============================] - 1s 3ms/step - loss: 0.3056 - accuracy: 0.8582\n",
      "Epoch 35/100\n",
      "259/259 [==============================] - 1s 3ms/step - loss: 0.3059 - accuracy: 0.8564\n",
      "Epoch 36/100\n",
      "259/259 [==============================] - 1s 3ms/step - loss: 0.3037 - accuracy: 0.8554\n",
      "Epoch 37/100\n",
      "259/259 [==============================] - 1s 3ms/step - loss: 0.3042 - accuracy: 0.8620\n",
      "Epoch 38/100\n",
      "259/259 [==============================] - 1s 2ms/step - loss: 0.3046 - accuracy: 0.8567\n",
      "Epoch 39/100\n",
      "259/259 [==============================] - 1s 2ms/step - loss: 0.3029 - accuracy: 0.8597\n",
      "Epoch 40/100\n",
      "259/259 [==============================] - 1s 3ms/step - loss: 0.3014 - accuracy: 0.8602\n",
      "Epoch 41/100\n",
      "259/259 [==============================] - 1s 3ms/step - loss: 0.3043 - accuracy: 0.8575\n",
      "Epoch 42/100\n",
      "259/259 [==============================] - 1s 4ms/step - loss: 0.3004 - accuracy: 0.8609\n",
      "Epoch 43/100\n",
      "259/259 [==============================] - 1s 3ms/step - loss: 0.3002 - accuracy: 0.8636\n",
      "Epoch 44/100\n",
      "259/259 [==============================] - 1s 3ms/step - loss: 0.2997 - accuracy: 0.8602\n",
      "Epoch 45/100\n",
      "259/259 [==============================] - 1s 4ms/step - loss: 0.2992 - accuracy: 0.8638\n",
      "Epoch 46/100\n",
      "259/259 [==============================] - 1s 3ms/step - loss: 0.2984 - accuracy: 0.8590\n",
      "Epoch 47/100\n",
      "259/259 [==============================] - 1s 4ms/step - loss: 0.2984 - accuracy: 0.8598\n",
      "Epoch 48/100\n",
      "259/259 [==============================] - 1s 3ms/step - loss: 0.2990 - accuracy: 0.8592\n",
      "Epoch 49/100\n",
      "259/259 [==============================] - 1s 4ms/step - loss: 0.2996 - accuracy: 0.8602\n",
      "Epoch 50/100\n",
      "259/259 [==============================] - 1s 4ms/step - loss: 0.2970 - accuracy: 0.8615\n",
      "Epoch 51/100\n",
      "259/259 [==============================] - 1s 3ms/step - loss: 0.2987 - accuracy: 0.8587\n",
      "Epoch 52/100\n",
      "259/259 [==============================] - 1s 3ms/step - loss: 0.2988 - accuracy: 0.8630\n",
      "Epoch 53/100\n",
      "259/259 [==============================] - 1s 3ms/step - loss: 0.2981 - accuracy: 0.8598\n",
      "Epoch 54/100\n",
      "259/259 [==============================] - 1s 3ms/step - loss: 0.2965 - accuracy: 0.8626\n",
      "Epoch 55/100\n",
      "259/259 [==============================] - 1s 4ms/step - loss: 0.2973 - accuracy: 0.8597\n",
      "Epoch 56/100\n",
      "259/259 [==============================] - 1s 4ms/step - loss: 0.2970 - accuracy: 0.8619\n",
      "Epoch 57/100\n",
      "259/259 [==============================] - 1s 3ms/step - loss: 0.2989 - accuracy: 0.8616\n",
      "Epoch 58/100\n",
      "259/259 [==============================] - 1s 4ms/step - loss: 0.2970 - accuracy: 0.8604\n",
      "Epoch 59/100\n",
      "259/259 [==============================] - 1s 3ms/step - loss: 0.2957 - accuracy: 0.8636\n",
      "Epoch 60/100\n",
      "259/259 [==============================] - 1s 4ms/step - loss: 0.2947 - accuracy: 0.8637\n",
      "Epoch 61/100\n",
      "259/259 [==============================] - 1s 3ms/step - loss: 0.2944 - accuracy: 0.8642\n",
      "Epoch 62/100\n",
      "259/259 [==============================] - 1s 3ms/step - loss: 0.2965 - accuracy: 0.8614\n",
      "Epoch 63/100\n",
      "259/259 [==============================] - 1s 3ms/step - loss: 0.2962 - accuracy: 0.8585\n",
      "Epoch 64/100\n",
      "259/259 [==============================] - 1s 3ms/step - loss: 0.2937 - accuracy: 0.8640\n",
      "Epoch 65/100\n",
      "259/259 [==============================] - 1s 3ms/step - loss: 0.2931 - accuracy: 0.8628\n",
      "Epoch 66/100\n",
      "259/259 [==============================] - 1s 3ms/step - loss: 0.2919 - accuracy: 0.8656\n",
      "Epoch 67/100\n",
      "259/259 [==============================] - 1s 3ms/step - loss: 0.2919 - accuracy: 0.8609\n",
      "Epoch 68/100\n",
      "259/259 [==============================] - 1s 3ms/step - loss: 0.2964 - accuracy: 0.8623\n",
      "Epoch 69/100\n",
      "259/259 [==============================] - 1s 3ms/step - loss: 0.2950 - accuracy: 0.8610\n",
      "Epoch 70/100\n",
      "259/259 [==============================] - 1s 3ms/step - loss: 0.2911 - accuracy: 0.8642\n",
      "Epoch 71/100\n",
      "259/259 [==============================] - 1s 4ms/step - loss: 0.2926 - accuracy: 0.8622: 0s - loss:\n",
      "Epoch 72/100\n",
      "259/259 [==============================] - 1s 3ms/step - loss: 0.2905 - accuracy: 0.8643\n",
      "Epoch 73/100\n",
      "259/259 [==============================] - 1s 4ms/step - loss: 0.2915 - accuracy: 0.8649\n",
      "Epoch 74/100\n",
      "259/259 [==============================] - 1s 3ms/step - loss: 0.2940 - accuracy: 0.8598\n",
      "Epoch 75/100\n",
      "259/259 [==============================] - 1s 4ms/step - loss: 0.2923 - accuracy: 0.8636\n",
      "Epoch 76/100\n",
      "259/259 [==============================] - 1s 4ms/step - loss: 0.2899 - accuracy: 0.8656: 0s\n",
      "Epoch 77/100\n",
      "259/259 [==============================] - 1s 3ms/step - loss: 0.2898 - accuracy: 0.8651\n",
      "Epoch 78/100\n",
      "259/259 [==============================] - 1s 3ms/step - loss: 0.2923 - accuracy: 0.8661\n",
      "Epoch 79/100\n",
      "259/259 [==============================] - 1s 3ms/step - loss: 0.2906 - accuracy: 0.8646: 0s - loss: 0.2917 - accuracy: 0.86\n",
      "Epoch 80/100\n"
     ]
    },
    {
     "name": "stdout",
     "output_type": "stream",
     "text": [
      "259/259 [==============================] - 1s 3ms/step - loss: 0.2911 - accuracy: 0.8643\n",
      "Epoch 81/100\n",
      "259/259 [==============================] - 1s 4ms/step - loss: 0.2902 - accuracy: 0.8666\n",
      "Epoch 82/100\n",
      "259/259 [==============================] - 1s 3ms/step - loss: 0.2903 - accuracy: 0.8640\n",
      "Epoch 83/100\n",
      "259/259 [==============================] - 1s 3ms/step - loss: 0.2889 - accuracy: 0.8655\n",
      "Epoch 84/100\n",
      "259/259 [==============================] - 1s 3ms/step - loss: 0.2900 - accuracy: 0.8655\n",
      "Epoch 85/100\n",
      "259/259 [==============================] - 1s 3ms/step - loss: 0.2909 - accuracy: 0.8632\n",
      "Epoch 86/100\n",
      "259/259 [==============================] - 1s 3ms/step - loss: 0.2896 - accuracy: 0.8623\n",
      "Epoch 87/100\n",
      "259/259 [==============================] - 1s 3ms/step - loss: 0.2896 - accuracy: 0.8640\n",
      "Epoch 88/100\n",
      "259/259 [==============================] - 1s 3ms/step - loss: 0.2901 - accuracy: 0.8648\n",
      "Epoch 89/100\n",
      "259/259 [==============================] - 1s 4ms/step - loss: 0.2874 - accuracy: 0.8667\n",
      "Epoch 90/100\n",
      "259/259 [==============================] - 1s 3ms/step - loss: 0.2891 - accuracy: 0.8654\n",
      "Epoch 91/100\n",
      "259/259 [==============================] - 1s 3ms/step - loss: 0.2882 - accuracy: 0.8678\n",
      "Epoch 92/100\n",
      "259/259 [==============================] - 1s 3ms/step - loss: 0.2873 - accuracy: 0.8669\n",
      "Epoch 93/100\n",
      "259/259 [==============================] - 1s 3ms/step - loss: 0.2888 - accuracy: 0.8678\n",
      "Epoch 94/100\n",
      "259/259 [==============================] - 1s 3ms/step - loss: 0.2881 - accuracy: 0.8636\n",
      "Epoch 95/100\n",
      "259/259 [==============================] - 1s 3ms/step - loss: 0.2908 - accuracy: 0.8625\n",
      "Epoch 96/100\n",
      "259/259 [==============================] - 1s 3ms/step - loss: 0.2862 - accuracy: 0.8671\n",
      "Epoch 97/100\n",
      "259/259 [==============================] - 1s 3ms/step - loss: 0.2850 - accuracy: 0.8655\n",
      "Epoch 98/100\n",
      "259/259 [==============================] - 1s 3ms/step - loss: 0.2852 - accuracy: 0.8666\n",
      "Epoch 99/100\n",
      "259/259 [==============================] - 1s 3ms/step - loss: 0.2863 - accuracy: 0.8659\n",
      "Epoch 100/100\n",
      "259/259 [==============================] - 1s 4ms/step - loss: 0.2869 - accuracy: 0.8672\n"
     ]
    },
    {
     "data": {
      "text/plain": [
       "<tensorflow.python.keras.callbacks.History at 0x1e9e5e1ae20>"
      ]
     },
     "execution_count": 199,
     "metadata": {},
     "output_type": "execute_result"
    }
   ],
   "source": [
    "import tensorflow as tf\n",
    "from tensorflow import keras\n",
    "from sklearn.metrics import confusion_matrix , classification_report\n",
    "\n",
    "model = keras.Sequential([\n",
    "    keras.layers.Dense(26, input_dim=26, activation='relu'),\n",
    "    keras.layers.Dense(15, activation='relu'),\n",
    "    keras.layers.Dense(1, activation='sigmoid')\n",
    "])\n",
    "\n",
    "model.compile(optimizer='adam', loss=keras.losses.BinaryCrossentropy(), metrics=['accuracy'])\n",
    "\n",
    "model.fit(xtrain, ytrain, epochs=100, verbose=1)"
   ]
  },
  {
   "cell_type": "code",
   "execution_count": 200,
   "id": "eeba96ca",
   "metadata": {},
   "outputs": [
    {
     "name": "stdout",
     "output_type": "stream",
     "text": [
      "65/65 [==============================] - 0s 2ms/step - loss: 0.3695 - accuracy: 0.8306\n"
     ]
    },
    {
     "data": {
      "text/plain": [
       "[0.3695432245731354, 0.8305904865264893]"
      ]
     },
     "execution_count": 200,
     "metadata": {},
     "output_type": "execute_result"
    }
   ],
   "source": [
    "model.evaluate(xtest, ytest)"
   ]
  },
  {
   "cell_type": "code",
   "execution_count": 201,
   "id": "53c3ecb7",
   "metadata": {},
   "outputs": [
    {
     "name": "stdout",
     "output_type": "stream",
     "text": [
      "              precision    recall  f1-score   support\n",
      "\n",
      "           0       0.86      0.79      0.82      1033\n",
      "           1       0.81      0.87      0.84      1033\n",
      "\n",
      "    accuracy                           0.83      2066\n",
      "   macro avg       0.83      0.83      0.83      2066\n",
      "weighted avg       0.83      0.83      0.83      2066\n",
      "\n"
     ]
    }
   ],
   "source": [
    "ypreds = model.predict(xtest)\n",
    "ypreds = np.round(ypreds)\n",
    "print(classification_report(ytest, ypreds))"
   ]
  },
  {
   "cell_type": "code",
   "execution_count": null,
   "id": "854b3e3b",
   "metadata": {},
   "outputs": [],
   "source": []
  }
 ],
 "metadata": {
  "kernelspec": {
   "display_name": "Python 3",
   "language": "python",
   "name": "python3"
  },
  "language_info": {
   "codemirror_mode": {
    "name": "ipython",
    "version": 3
   },
   "file_extension": ".py",
   "mimetype": "text/x-python",
   "name": "python",
   "nbconvert_exporter": "python",
   "pygments_lexer": "ipython3",
   "version": "3.8.8"
  }
 },
 "nbformat": 4,
 "nbformat_minor": 5
}
